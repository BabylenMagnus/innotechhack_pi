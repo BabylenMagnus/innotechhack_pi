{
 "cells": [
  {
   "cell_type": "code",
   "execution_count": 1,
   "outputs": [],
   "source": [
    "import dlib\n",
    "from PIL import Image\n",
    "import numpy as np\n",
    "import PIL\n",
    "from face_encoding import get_encod\n",
    "import pandas as pd\n",
    "import vk\n",
    "import requests\n",
    "from PIL import Image\n",
    "import requests\n",
    "from io import BytesIO\n",
    "import requests as req\n",
    "import pymongo\n",
    "from data_parsing import add_encoding"
   ],
   "metadata": {
    "collapsed": false,
    "pycharm": {
     "name": "#%%\n"
    }
   }
  },
  {
   "cell_type": "code",
   "execution_count": 2,
   "outputs": [
    {
     "data": {
      "text/plain": "{'response': [{'first_name': 'Давид',\n   'id': 231195633,\n   'last_name': 'Строкатов',\n   'can_access_closed': True,\n   'is_closed': False,\n   'sex': 2,\n   'verified': 0,\n   'domain': 'david_daimond',\n   'bdate': '15.9.2003',\n   'city': {'id': 164, 'title': 'Шахты'},\n   'country': {'id': 1, 'title': 'Россия'},\n   'photo_200_orig': 'https://sun2-9.userapi.com/impg/dHIjqPW6ZgweB__j5hjjHSUgWdl6A5baM-b_gA/JM0_jX_Y3fE.jpg?size=200x0&quality=90&crop=210,0,558,558&sign=26c4855a985cea9e633b40dbc2971758&c_uniq_tag=aj3pOf1SH05doQLVs46bOe67nR45rZXFf_VotfzbnXo&ava=1',\n   'photo_400_orig': 'https://sun2-9.userapi.com/impg/dHIjqPW6ZgweB__j5hjjHSUgWdl6A5baM-b_gA/JM0_jX_Y3fE.jpg?size=400x0&quality=90&crop=210,0,558,558&sign=84ea8274c1c9dbcd90b9cfe531d8d3fd&c_uniq_tag=MXqLVSZIbdkL0cJN4pDMEpRw_EOTwp5FUReevFKLEAM&ava=1',\n   'photo_max_orig': 'https://sun2-9.userapi.com/impg/dHIjqPW6ZgweB__j5hjjHSUgWdl6A5baM-b_gA/JM0_jX_Y3fE.jpg?size=400x0&quality=90&crop=210,0,558,558&sign=84ea8274c1c9dbcd90b9cfe531d8d3fd&c_uniq_tag=MXqLVSZIbdkL0cJN4pDMEpRw_EOTwp5FUReevFKLEAM&ava=1',\n   'photo_id': '231195633_457246320',\n   'has_photo': 1,\n   'has_mobile': 1,\n   'can_post': 1,\n   'can_see_all_posts': 1,\n   'activities': 'Учусь в КЭС, параллельно занимаюсь изучением',\n   'can_write_private_message': 1,\n   'mobile_phone': '+7 (991) 084-35-49',\n   'home_phone': '',\n   'site': '',\n   'exports': [],\n   'followers_count': 468,\n   'common_count': 0,\n   'occupation': {'id': 1751495,\n    'name': 'Колледж экономики и сервиса Института сферы обслуживания и предпринимательства ДГТУ',\n    'type': 'school'},\n   'career': [{'city_id': 119,\n     'country_id': 1,\n     'from': 2019,\n     'group_id': 24720111,\n     'position': 'Продаван',\n     'until': 2019},\n    {'city_id': 119,\n     'country_id': 1,\n     'from': 2018,\n     'group_id': 158593996,\n     'position': 'Автор',\n     'until': 2020}],\n   'university': 0,\n   'university_name': '',\n   'faculty': 0,\n   'faculty_name': '',\n   'graduation': 0,\n   'home_town': 'Ростов-На-Дону',\n   'relation': 7,\n   'relation_partner': {'first_name': 'Давид',\n    'id': 459929185,\n    'last_name': 'Строкатов'},\n   'personal': {'alcohol': 2,\n    'inspired_by': '',\n    'langs': ['Русский', 'English'],\n    'life_main': 5,\n    'people_main': 1,\n    'political': 1,\n    'religion': 'Светский гуманизм',\n    'religion_id': 200,\n    'smoking': 2},\n   'universities': [],\n   'schools': [{'city': 119,\n     'class': 'в',\n     'country': 1,\n     'id': '88608',\n     'name': 'Школа № 10',\n     'year_to': 2015,\n     'speciality': '-'},\n    {'city': 119,\n     'class': 'в',\n     'country': 1,\n     'id': '178739',\n     'name': 'Школа № 111',\n     'year_from': 2015,\n     'year_graduated': 2019,\n     'speciality': '-'},\n    {'city': 119,\n     'country': 1,\n     'id': '341266',\n     'name': 'Авиационный колледж ДГТУ (РАК)',\n     'type': 8,\n     'type_str': 'Колледж',\n     'year_from': 2019,\n     'year_to': 2020,\n     'speciality': 'ПКС'},\n    {'city': 164,\n     'country': 1,\n     'id': '1751495',\n     'name': 'Колледж экономики и сервиса Института сферы обслуживания и предпринимательства ДГТУ',\n     'year_from': 2020,\n     'speciality': 'Программирование в Компьютерных Сетях'}],\n   'relatives': []}]}"
     },
     "execution_count": 2,
     "metadata": {},
     "output_type": "execute_result"
    }
   ],
   "source": [
    "test = vk.get_users_data(['231195633'])\n",
    "test"
   ],
   "metadata": {
    "collapsed": false,
    "pycharm": {
     "name": "#%%\n"
    }
   }
  },
  {
   "cell_type": "code",
   "execution_count": 6,
   "outputs": [],
   "source": [
    "add_encoding(test['response'][0])"
   ],
   "metadata": {
    "collapsed": false,
    "pycharm": {
     "name": "#%%\n"
    }
   }
  },
  {
   "cell_type": "code",
   "execution_count": 3,
   "outputs": [],
   "source": [],
   "metadata": {
    "collapsed": false,
    "pycharm": {
     "name": "#%%\n"
    }
   }
  }
 ],
 "metadata": {
  "kernelspec": {
   "display_name": "Python 3",
   "language": "python",
   "name": "python3"
  },
  "language_info": {
   "codemirror_mode": {
    "name": "ipython",
    "version": 2
   },
   "file_extension": ".py",
   "mimetype": "text/x-python",
   "name": "python",
   "nbconvert_exporter": "python",
   "pygments_lexer": "ipython2",
   "version": "2.7.6"
  }
 },
 "nbformat": 4,
 "nbformat_minor": 0
}