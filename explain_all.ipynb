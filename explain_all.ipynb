{
 "cells": [
  {
   "cell_type": "code",
   "execution_count": 1,
   "outputs": [],
   "source": [
    "import dlib\n",
    "from PIL import Image\n",
    "import numpy as np\n",
    "import PIL\n",
    "from face_encoding import get_encod\n",
    "import pandas as pd"
   ],
   "metadata": {
    "collapsed": false,
    "pycharm": {
     "name": "#%%\n"
    }
   }
  },
  {
   "cell_type": "code",
   "execution_count": 2,
   "outputs": [
    {
     "data": {
      "text/plain": "array([ 2.50428542e-03,  7.09730163e-02,  1.45625383e-01, -3.74281891e-02,\n       -5.33121713e-02, -6.88219890e-02, -2.54898425e-02, -7.56741390e-02,\n        1.27035737e-01, -1.71154663e-02,  1.89687178e-01,  6.13913722e-02,\n       -1.78290263e-01, -8.70401114e-02, -3.25567201e-02,  8.94559268e-03,\n       -8.77523795e-02, -1.02464199e-01, -2.38248035e-02, -5.93408309e-02,\n        1.08996993e-02,  7.52935633e-02,  3.24961357e-02,  1.00503519e-01,\n       -8.39324743e-02, -3.23592931e-01, -6.95526451e-02, -1.33030549e-01,\n        3.70198488e-03, -7.65360966e-02,  1.31756132e-02, -4.54795826e-03,\n       -1.67772949e-01, -2.96827313e-02, -6.19001081e-03,  2.91977972e-02,\n       -1.23253427e-01, -7.19307661e-02,  1.85791805e-01,  4.46171463e-02,\n       -1.01668589e-01, -1.71554983e-02, -3.00606582e-02,  3.07376027e-01,\n        2.34856173e-01, -2.96659279e-03,  2.70442758e-02, -7.58012459e-02,\n        1.42716870e-01, -2.56004900e-01,  1.52538642e-01,  1.55382872e-01,\n        1.38131812e-01,  1.05526686e-01,  1.35533363e-01, -1.42078623e-01,\n        3.15504372e-02,  9.00882110e-02, -2.28500918e-01,  1.30697772e-01,\n       -6.16160408e-02, -8.62584561e-02,  4.36802544e-02, -6.43996224e-02,\n        1.58592269e-01,  8.28511342e-02, -6.97256327e-02, -1.20648362e-01,\n        9.65847149e-02, -2.41929397e-01, -8.79348218e-02,  1.11625887e-01,\n       -6.71730414e-02, -1.59573182e-01, -2.83600301e-01,  4.55513969e-02,\n        3.88230652e-01,  2.20638111e-01, -2.49247178e-01, -3.34765501e-02,\n       -1.67197764e-01, -6.47727475e-02,  7.74525926e-02, -4.86966310e-04,\n       -3.90110090e-02, -5.81151545e-02, -1.45564318e-01, -2.68341601e-02,\n        1.78560212e-01, -2.08954904e-02, -1.07075132e-01,  2.12202102e-01,\n       -8.62080883e-03,  8.93273950e-03,  5.94048761e-02,  4.08119056e-03,\n       -1.34080216e-01,  7.33314529e-02, -1.09628014e-01, -3.32126841e-02,\n       -3.60345803e-02, -1.07977167e-01,  7.77090463e-05,  5.15104011e-02,\n       -2.40062147e-01,  2.01984316e-01,  5.48138395e-02, -6.03338853e-02,\n        1.73079018e-02, -3.46370414e-03, -2.01301560e-01, -5.00782393e-02,\n        2.02831030e-01, -3.07306588e-01,  2.77796686e-01,  1.21345520e-01,\n        9.10973325e-02,  2.17308864e-01, -1.99403595e-02,  5.52267022e-02,\n       -7.86080062e-02, -1.32799000e-01, -3.01226266e-02, -5.07869124e-02,\n       -1.31136295e-03,  3.49141471e-02,  6.39325604e-02,  4.77401987e-02])"
     },
     "execution_count": 2,
     "metadata": {},
     "output_type": "execute_result"
    }
   ],
   "source": [
    "get_encod('1.jpg')"
   ],
   "metadata": {
    "collapsed": false,
    "pycharm": {
     "name": "#%%\n"
    }
   }
  },
  {
   "cell_type": "code",
   "execution_count": 51,
   "outputs": [],
   "source": [
    "data = {\n",
    "    'name': [],\n",
    "    'birthday': [],\n",
    "    'city': []\n",
    "}"
   ],
   "metadata": {
    "collapsed": false,
    "pycharm": {
     "name": "#%%\n"
    }
   }
  },
  {
   "cell_type": "code",
   "execution_count": 52,
   "outputs": [],
   "source": [
    "file = open('1234', 'r')"
   ],
   "metadata": {
    "collapsed": false,
    "pycharm": {
     "name": "#%%\n"
    }
   }
  },
  {
   "cell_type": "code",
   "execution_count": 7,
   "outputs": [
    {
     "data": {
      "text/plain": "'2. АБАЕВ ИДРИС МОВСАРОВИЧ*, 02.01.1986 г.р. , С. СУВОРОВ-ЮРТ ГУДЕРМЕССКОГО РАЙОНА ЧИАССР;\\n'"
     },
     "execution_count": 7,
     "metadata": {},
     "output_type": "execute_result"
    }
   ],
   "source": [
    "txt = file.readline()\n",
    "txt"
   ],
   "metadata": {
    "collapsed": false,
    "pycharm": {
     "name": "#%%\n"
    }
   }
  },
  {
   "cell_type": "code",
   "execution_count": 9,
   "outputs": [],
   "source": [
    "txt = txt.split('.')\n",
    "data['index'].append(txt[0])"
   ],
   "metadata": {
    "collapsed": false,
    "pycharm": {
     "name": "#%%\n"
    }
   }
  },
  {
   "cell_type": "code",
   "execution_count": 10,
   "outputs": [],
   "source": [
    "txt = '.'.join(txt[1:])"
   ],
   "metadata": {
    "collapsed": false,
    "pycharm": {
     "name": "#%%\n"
    }
   }
  },
  {
   "cell_type": "code",
   "execution_count": 78,
   "outputs": [],
   "source": [
    "data = {\n",
    "    'name': [],\n",
    "    'second_name': [],\n",
    "    'birthday': [],\n",
    "    'city': []\n",
    "}"
   ],
   "metadata": {
    "collapsed": false,
    "pycharm": {
     "name": "#%%\n"
    }
   }
  },
  {
   "cell_type": "code",
   "execution_count": 79,
   "outputs": [],
   "source": [
    "file = open('1234', 'r')"
   ],
   "metadata": {
    "collapsed": false,
    "pycharm": {
     "name": "#%%\n"
    }
   }
  },
  {
   "cell_type": "code",
   "execution_count": 80,
   "outputs": [],
   "source": [
    "for line in file.readlines():\n",
    "    txt = line.split('.')\n",
    "    txt = '.'.join(txt[1:]).split(',')\n",
    "    if len(txt) < 4:\n",
    "        data['name'].append(txt[0].strip().replace('*', ''))\n",
    "        data['second_name'].append(None)\n",
    "        data['birthday'].append(txt[1].replace('г.р.', '').replace(';', '').strip())\n",
    "        try:\n",
    "            data['city'].append(txt[2].replace(';\\n', '').strip())\n",
    "        except:\n",
    "            data['city'].append(None)\n",
    "    if len(txt) == 4:\n",
    "        data['name'].append(txt[0].strip().replace('*', ''))\n",
    "        data['second_name'].append(txt[1].strip().replace('*', ''))\n",
    "        data['birthday'].append(txt[2].replace('г.р.', '').replace(';', '').strip())\n",
    "        try:\n",
    "            data['city'].append(txt[3].replace(';\\n', '').strip())\n",
    "        except:\n",
    "            data['city'].append(None)"
   ],
   "metadata": {
    "collapsed": false,
    "pycharm": {
     "name": "#%%\n"
    }
   }
  },
  {
   "cell_type": "code",
   "execution_count": 81,
   "outputs": [
    {
     "data": {
      "text/plain": "                                name second_name    birthday  \\\n0         АБАДИЕВ МАГОМЕД МИКАИЛОВИЧ        None  09.11.1982   \n1             АБАЕВ ИДРИС МОВСАРОВИЧ        None  02.01.1986   \n2              АБАЕВ МУХАДИН ЮРЬЕВИЧ        None  30.09.1981   \n3            АБАЗОВ АЗАМАТ МУАЕДОВИЧ        None  06.09.1985   \n4            АБАЗОВ АХМЕД ЭДУАРДОВИЧ        None  30.08.1992   \n...                              ...         ...         ...   \n10309     ЯШУРКАЕВ ИСМАИЛ СУЛТАНОВИЧ        None  21.05.1989   \n10310      ЯШУРКАЕВ УВАЙС ХАМЗАТОВИЧ        None  22.03.1971   \n10311  ЯЩУРКАЕВА МЕДНИ КИРИ-САИДОВНА        None  27.11.1990   \n10312     ЯЩУРКАЕВА ПЕТИМАТ АПТИЕВНА        None  12.08.1990   \n10313     ЯЯЧИКОВ ЭДЕМ АБДУРАШИТОВИЧ        None  01.05.1982   \n\n                                                    city  \n0                                      Г. НАЗРАНЬ ЧИАССР  \n1             С. СУВОРОВ-ЮРТ ГУДЕРМЕССКОГО РАЙОНА ЧИАССР  \n2             Г. НАЛЬЧИК КАБАРДИНО-БАЛКАРСКОЙ РЕСПУБЛИКИ  \n3                      С. ЗАЮКОВО БАКСАНСКОГО РАЙОНА КБР  \n4      С. КЫЗБУРУН-3 БАКСАНСКОГО РАЙОНА КАБАРДИНО-БАЛ...  \n...                                                  ...  \n10309         С. СТАРАЯ СУНЖА ГРОЗНЕНСКОГО РАЙОНА ЧИАССР  \n10310               С. ЧИРИ-ЮРТ ШАЛИНСКОГО РАЙОНА ЧИАССР  \n10311                                  Г. ГРОЗНЫЙ ЧИАССР  \n10312                    Г. ГРОЗНЫЙ ЧЕЧЕНСКОЙ РЕСПУБЛИКИ  \n10313                Г. НОВОРОССИЙСК КРАСНОДАРСКОГО КРАЯ  \n\n[10314 rows x 4 columns]",
      "text/html": "<div>\n<style scoped>\n    .dataframe tbody tr th:only-of-type {\n        vertical-align: middle;\n    }\n\n    .dataframe tbody tr th {\n        vertical-align: top;\n    }\n\n    .dataframe thead th {\n        text-align: right;\n    }\n</style>\n<table border=\"1\" class=\"dataframe\">\n  <thead>\n    <tr style=\"text-align: right;\">\n      <th></th>\n      <th>name</th>\n      <th>second_name</th>\n      <th>birthday</th>\n      <th>city</th>\n    </tr>\n  </thead>\n  <tbody>\n    <tr>\n      <th>0</th>\n      <td>АБАДИЕВ МАГОМЕД МИКАИЛОВИЧ</td>\n      <td>None</td>\n      <td>09.11.1982</td>\n      <td>Г. НАЗРАНЬ ЧИАССР</td>\n    </tr>\n    <tr>\n      <th>1</th>\n      <td>АБАЕВ ИДРИС МОВСАРОВИЧ</td>\n      <td>None</td>\n      <td>02.01.1986</td>\n      <td>С. СУВОРОВ-ЮРТ ГУДЕРМЕССКОГО РАЙОНА ЧИАССР</td>\n    </tr>\n    <tr>\n      <th>2</th>\n      <td>АБАЕВ МУХАДИН ЮРЬЕВИЧ</td>\n      <td>None</td>\n      <td>30.09.1981</td>\n      <td>Г. НАЛЬЧИК КАБАРДИНО-БАЛКАРСКОЙ РЕСПУБЛИКИ</td>\n    </tr>\n    <tr>\n      <th>3</th>\n      <td>АБАЗОВ АЗАМАТ МУАЕДОВИЧ</td>\n      <td>None</td>\n      <td>06.09.1985</td>\n      <td>С. ЗАЮКОВО БАКСАНСКОГО РАЙОНА КБР</td>\n    </tr>\n    <tr>\n      <th>4</th>\n      <td>АБАЗОВ АХМЕД ЭДУАРДОВИЧ</td>\n      <td>None</td>\n      <td>30.08.1992</td>\n      <td>С. КЫЗБУРУН-3 БАКСАНСКОГО РАЙОНА КАБАРДИНО-БАЛ...</td>\n    </tr>\n    <tr>\n      <th>...</th>\n      <td>...</td>\n      <td>...</td>\n      <td>...</td>\n      <td>...</td>\n    </tr>\n    <tr>\n      <th>10309</th>\n      <td>ЯШУРКАЕВ ИСМАИЛ СУЛТАНОВИЧ</td>\n      <td>None</td>\n      <td>21.05.1989</td>\n      <td>С. СТАРАЯ СУНЖА ГРОЗНЕНСКОГО РАЙОНА ЧИАССР</td>\n    </tr>\n    <tr>\n      <th>10310</th>\n      <td>ЯШУРКАЕВ УВАЙС ХАМЗАТОВИЧ</td>\n      <td>None</td>\n      <td>22.03.1971</td>\n      <td>С. ЧИРИ-ЮРТ ШАЛИНСКОГО РАЙОНА ЧИАССР</td>\n    </tr>\n    <tr>\n      <th>10311</th>\n      <td>ЯЩУРКАЕВА МЕДНИ КИРИ-САИДОВНА</td>\n      <td>None</td>\n      <td>27.11.1990</td>\n      <td>Г. ГРОЗНЫЙ ЧИАССР</td>\n    </tr>\n    <tr>\n      <th>10312</th>\n      <td>ЯЩУРКАЕВА ПЕТИМАТ АПТИЕВНА</td>\n      <td>None</td>\n      <td>12.08.1990</td>\n      <td>Г. ГРОЗНЫЙ ЧЕЧЕНСКОЙ РЕСПУБЛИКИ</td>\n    </tr>\n    <tr>\n      <th>10313</th>\n      <td>ЯЯЧИКОВ ЭДЕМ АБДУРАШИТОВИЧ</td>\n      <td>None</td>\n      <td>01.05.1982</td>\n      <td>Г. НОВОРОССИЙСК КРАСНОДАРСКОГО КРАЯ</td>\n    </tr>\n  </tbody>\n</table>\n<p>10314 rows × 4 columns</p>\n</div>"
     },
     "execution_count": 81,
     "metadata": {},
     "output_type": "execute_result"
    }
   ],
   "source": [
    "data = pd.DataFrame(data)\n",
    "data"
   ],
   "metadata": {
    "collapsed": false,
    "pycharm": {
     "name": "#%%\n"
    }
   }
  },
  {
   "cell_type": "code",
   "execution_count": 82,
   "outputs": [],
   "source": [
    "data.to_csv('extremists.csv')"
   ],
   "metadata": {
    "collapsed": false,
    "pycharm": {
     "name": "#%%\n"
    }
   }
  },
  {
   "cell_type": "code",
   "execution_count": 68,
   "outputs": [],
   "source": [
    "test = 'Давид Строкатов'"
   ],
   "metadata": {
    "collapsed": false,
    "pycharm": {
     "name": "#%%\n"
    }
   }
  },
  {
   "cell_type": "code",
   "execution_count": 84,
   "outputs": [
    {
     "data": {
      "text/plain": "0"
     },
     "execution_count": 84,
     "metadata": {},
     "output_type": "execute_result"
    }
   ],
   "source": [
    "len(data[test == data['name']])"
   ],
   "metadata": {
    "collapsed": false,
    "pycharm": {
     "name": "#%%\n"
    }
   }
  },
  {
   "cell_type": "code",
   "execution_count": 93,
   "outputs": [],
   "source": [
    "def is_terrorist(name, birh=None):\n",
    "    data_f = data[name == data['name']]\n",
    "    data_s = data[name == data['second_name']]\n",
    "    if len(data_f) or len(data_s):\n",
    "        if birh is not None:\n",
    "            return len(data_f[data_f['birthday'] == birh]) or  len(data_s[data_s['birthday'] == birh])\n",
    "        return 1\n",
    "    return 0"
   ],
   "metadata": {
    "collapsed": false,
    "pycharm": {
     "name": "#%%\n"
    }
   }
  },
  {
   "cell_type": "code",
   "execution_count": 94,
   "outputs": [
    {
     "data": {
      "text/plain": "1"
     },
     "execution_count": 94,
     "metadata": {},
     "output_type": "execute_result"
    }
   ],
   "source": [
    "is_terrorist('АБАЛАЕВ ИБРАГИМ ХУСЕЙНОВИЧ')"
   ],
   "metadata": {
    "collapsed": false,
    "pycharm": {
     "name": "#%%\n"
    }
   }
  },
  {
   "cell_type": "code",
   "execution_count": 95,
   "outputs": [
    {
     "data": {
      "text/plain": "1"
     },
     "execution_count": 95,
     "metadata": {},
     "output_type": "execute_result"
    }
   ],
   "source": [
    "is_terrorist('САЛАМОВ ИСЛАМБЕК АЛИЕВИЧ')"
   ],
   "metadata": {
    "collapsed": false,
    "pycharm": {
     "name": "#%%\n"
    }
   }
  },
  {
   "cell_type": "code",
   "execution_count": 96,
   "outputs": [
    {
     "data": {
      "text/plain": "0"
     },
     "execution_count": 96,
     "metadata": {},
     "output_type": "execute_result"
    }
   ],
   "source": [],
   "metadata": {
    "collapsed": false,
    "pycharm": {
     "name": "#%%\n"
    }
   }
  },
  {
   "cell_type": "code",
   "execution_count": null,
   "outputs": [],
   "source": [],
   "metadata": {
    "collapsed": false,
    "pycharm": {
     "name": "#%%\n"
    }
   }
  }
 ],
 "metadata": {
  "kernelspec": {
   "display_name": "Python 3",
   "language": "python",
   "name": "python3"
  },
  "language_info": {
   "codemirror_mode": {
    "name": "ipython",
    "version": 2
   },
   "file_extension": ".py",
   "mimetype": "text/x-python",
   "name": "python",
   "nbconvert_exporter": "python",
   "pygments_lexer": "ipython2",
   "version": "2.7.6"
  }
 },
 "nbformat": 4,
 "nbformat_minor": 0
}