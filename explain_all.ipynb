{
 "cells": [
  {
   "cell_type": "code",
   "execution_count": 2,
   "outputs": [],
   "source": [
    "import dlib\n",
    "from PIL import Image\n",
    "import numpy as np\n",
    "import PIL\n",
    "from face_encoding import get_encod\n",
    "import pandas as pd\n",
    "import vk\n",
    "import requests\n",
    "from PIL import Image\n",
    "import requests\n",
    "from io import BytesIO\n",
    "import requests as req\n",
    "import pymongo\n",
    "from data_parsing import add_encoding"
   ],
   "metadata": {
    "collapsed": false,
    "pycharm": {
     "name": "#%%\n"
    }
   }
  },
  {
   "cell_type": "code",
   "execution_count": 8,
   "outputs": [
    {
     "data": {
      "text/plain": "{'response': [{'first_name': 'Данил',\n   'id': 57197712,\n   'last_name': 'Буланов',\n   'can_access_closed': True,\n   'is_closed': False,\n   'sex': 2,\n   'verified': 0,\n   'domain': 'iddeus_machina1101',\n   'bdate': '10.9',\n   'city': {'id': 11, 'title': 'Северодвинск'},\n   'country': {'id': 1, 'title': 'Россия'},\n   'photo_200_orig': 'https://sun2-9.userapi.com/impf/Vs9vNESJQw-QnuJC56Ewf20guAp_52JWEfQalA/T95HKqk_WmM.jpg?size=200x0&quality=90&crop=0,0,960,1280&sign=eb23ff6fb467735850963d6ec2b30e24&c_uniq_tag=11_I-PyVwNErRhxhhzsiBd60fLzRoXdzwyQp0IE0_b0&ava=1',\n   'photo_400_orig': 'https://sun2-9.userapi.com/impf/Vs9vNESJQw-QnuJC56Ewf20guAp_52JWEfQalA/T95HKqk_WmM.jpg?size=400x0&quality=90&crop=0,0,960,1280&sign=ea4ef48fb21a920f6c50c0edc7629d2b&c_uniq_tag=usf-JJfjvHVazQaxbemkjgu6vsmZdEcEjG05bgmfmik&ava=1',\n   'photo_max_orig': 'https://sun2-9.userapi.com/impf/Vs9vNESJQw-QnuJC56Ewf20guAp_52JWEfQalA/T95HKqk_WmM.jpg?size=400x0&quality=90&crop=0,0,960,1280&sign=ea4ef48fb21a920f6c50c0edc7629d2b&c_uniq_tag=usf-JJfjvHVazQaxbemkjgu6vsmZdEcEjG05bgmfmik&ava=1',\n   'photo_id': '57197712_456239628',\n   'has_photo': 1,\n   'has_mobile': 1,\n   'can_post': 0,\n   'can_see_all_posts': 0,\n   'skype': 'LeoRid1101',\n   'can_write_private_message': 1,\n   'mobile_phone': 'Кому он нужен, напишите',\n   'home_phone': 'Неубиваемый Nokia',\n   'site': '',\n   'followers_count': 167,\n   'common_count': 1,\n   'occupation': {'id': 187806486, 'name': 'Deus Machina', 'type': 'work'}}]}"
     },
     "execution_count": 8,
     "metadata": {},
     "output_type": "execute_result"
    }
   ],
   "source": [
    "test = vk.get_users_data(['https://vk.com/iddeus_machina1101'.split('/')[-1]])\n",
    "test"
   ],
   "metadata": {
    "collapsed": false,
    "pycharm": {
     "name": "#%%\n"
    }
   }
  },
  {
   "cell_type": "code",
   "execution_count": 3,
   "outputs": [],
   "source": [
    "test = vk.get_users_data(['https://vk.com/iddeus_machina1101'.split('/')[-1]])\n",
    "add_encoding(test['response'][0])"
   ],
   "metadata": {
    "collapsed": false,
    "pycharm": {
     "name": "#%%\n"
    }
   }
  },
  {
   "cell_type": "code",
   "execution_count": 3,
   "outputs": [],
   "source": [
    "\n"
   ],
   "metadata": {
    "collapsed": false,
    "pycharm": {
     "name": "#%%\n"
    }
   }
  }
 ],
 "metadata": {
  "kernelspec": {
   "display_name": "Python 3",
   "language": "python",
   "name": "python3"
  },
  "language_info": {
   "codemirror_mode": {
    "name": "ipython",
    "version": 2
   },
   "file_extension": ".py",
   "mimetype": "text/x-python",
   "name": "python",
   "nbconvert_exporter": "python",
   "pygments_lexer": "ipython2",
   "version": "2.7.6"
  }
 },
 "nbformat": 4,
 "nbformat_minor": 0
}