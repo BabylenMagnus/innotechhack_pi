{
 "cells": [
  {
   "cell_type": "code",
   "execution_count": 4,
   "outputs": [],
   "source": [
    "import dlib\n",
    "from PIL import Image\n",
    "import numpy as np\n",
    "import PIL\n",
    "from face_encoding import get_encod\n",
    "import pandas as pd\n",
    "import vk\n",
    "import requests\n",
    "from PIL import Image\n",
    "import requests\n",
    "from io import BytesIO\n",
    "import requests as req\n",
    "import pymongo\n",
    "from data_parsing import add_encoding\n",
    "from const import *"
   ],
   "metadata": {
    "collapsed": false,
    "pycharm": {
     "name": "#%%\n"
    }
   }
  },
  {
   "cell_type": "code",
   "execution_count": 8,
   "outputs": [
    {
     "data": {
      "text/plain": "{'response': [{'first_name': 'Данил',\n   'id': 57197712,\n   'last_name': 'Буланов',\n   'can_access_closed': True,\n   'is_closed': False,\n   'sex': 2,\n   'verified': 0,\n   'domain': 'iddeus_machina1101',\n   'bdate': '10.9',\n   'city': {'id': 11, 'title': 'Северодвинск'},\n   'country': {'id': 1, 'title': 'Россия'},\n   'photo_200_orig': 'https://sun2-9.userapi.com/impf/Vs9vNESJQw-QnuJC56Ewf20guAp_52JWEfQalA/T95HKqk_WmM.jpg?size=200x0&quality=90&crop=0,0,960,1280&sign=eb23ff6fb467735850963d6ec2b30e24&c_uniq_tag=11_I-PyVwNErRhxhhzsiBd60fLzRoXdzwyQp0IE0_b0&ava=1',\n   'photo_400_orig': 'https://sun2-9.userapi.com/impf/Vs9vNESJQw-QnuJC56Ewf20guAp_52JWEfQalA/T95HKqk_WmM.jpg?size=400x0&quality=90&crop=0,0,960,1280&sign=ea4ef48fb21a920f6c50c0edc7629d2b&c_uniq_tag=usf-JJfjvHVazQaxbemkjgu6vsmZdEcEjG05bgmfmik&ava=1',\n   'photo_max_orig': 'https://sun2-9.userapi.com/impf/Vs9vNESJQw-QnuJC56Ewf20guAp_52JWEfQalA/T95HKqk_WmM.jpg?size=400x0&quality=90&crop=0,0,960,1280&sign=ea4ef48fb21a920f6c50c0edc7629d2b&c_uniq_tag=usf-JJfjvHVazQaxbemkjgu6vsmZdEcEjG05bgmfmik&ava=1',\n   'photo_id': '57197712_456239628',\n   'has_photo': 1,\n   'has_mobile': 1,\n   'can_post': 0,\n   'can_see_all_posts': 0,\n   'skype': 'LeoRid1101',\n   'can_write_private_message': 1,\n   'mobile_phone': 'Кому он нужен, напишите',\n   'home_phone': 'Неубиваемый Nokia',\n   'site': '',\n   'followers_count': 167,\n   'common_count': 1,\n   'occupation': {'id': 187806486, 'name': 'Deus Machina', 'type': 'work'}}]}"
     },
     "execution_count": 8,
     "metadata": {},
     "output_type": "execute_result"
    }
   ],
   "source": [
    "test = vk.get_users_data(['https://vk.com/iddeus_machina1101'.split('/')[-1]])\n",
    "test"
   ],
   "metadata": {
    "collapsed": false,
    "pycharm": {
     "name": "#%%\n"
    }
   }
  },
  {
   "cell_type": "code",
   "execution_count": 3,
   "outputs": [],
   "source": [
    "test = vk.get_users_data(['https://vk.com/iddeus_machina1101'.split('/')[-1]])\n",
    "add_encoding(test['response'][0])"
   ],
   "metadata": {
    "collapsed": false,
    "pycharm": {
     "name": "#%%\n"
    }
   }
  },
  {
   "cell_type": "code",
   "execution_count": 5,
   "outputs": [],
   "source": [
    "client = pymongo.MongoClient(MONGO_URL)\n",
    "db = client.inno_hack\n",
    "embedding_db = db['embedding']"
   ],
   "metadata": {
    "collapsed": false,
    "pycharm": {
     "name": "#%%\n"
    }
   }
  },
  {
   "cell_type": "code",
   "execution_count": 7,
   "outputs": [
    {
     "name": "stdout",
     "output_type": "stream",
     "text": [
      "{'_id': ObjectId('5fc2ea9a07198fd97fe5398e'), 'danil bulanov': [-0.06134677678346634, -0.011728864163160324, 0.06728405505418777, -0.03675885498523712, -0.10161285847425461, -0.0418645404279232, -0.025280026718974113, -0.06153357774019241, 0.11635518074035645, -0.03010162152349949, 0.23565195500850677, -0.05452222749590874, -0.2827887535095215, -0.050612617284059525, -0.01499693002551794, 0.1180531308054924, -0.10753726214170456, -0.12797051668167114, -0.07349105924367905, -0.0764818787574768, 0.07190056890249252, 0.11149132251739502, 0.016463272273540497, 0.0752694383263588, -0.06956619024276733, -0.3596535921096802, -0.08371549099683762, -0.05496145412325859, 0.003622176591306925, -0.1084822341799736, 0.047575581818819046, 0.14927785098552704, -0.17090819776058197, -0.049166660755872726, 0.08275514096021652, 0.041720662266016006, -0.09463798254728317, -0.04274800792336464, 0.21442864835262299, 0.06878451257944107, -0.17840950191020966, 0.04110643267631531, 0.02011207863688469, 0.26031628251075745, 0.13003183901309967, 0.07207310199737549, -0.02983742766082287, -0.07241301983594894, 0.08990386128425598, -0.33901089429855347, 0.04008347913622856, 0.23929999768733978, 0.1045822873711586, 0.07469646632671356, -0.001334579661488533, -0.15486250817775726, 0.03449111431837082, 0.12548254430294037, -0.28540316224098206, 0.1261032670736313, 0.04567857086658478, -0.17148220539093018, -0.014232142828404903, -0.06857866793870926, 0.1207699105143547, 0.09590447694063187, -0.14734384417533875, -0.11080336570739746, 0.08819304406642914, -0.18734481930732727, -0.0771554559469223, 0.11429262161254883, -0.14440564811229706, -0.2428252249956131, -0.30877554416656494, 0.05234166607260704, 0.3721272051334381, 0.09925717115402222, -0.18892094492912292, -0.04456807300448418, 0.006194956135004759, 0.024766620248556137, 0.028778785839676857, 0.07028507441282272, -0.10101374238729477, -0.08224258571863174, -0.08243308961391449, 0.01221404317766428, 0.16412103176116943, 0.0073230029083788395, -0.08118582516908646, 0.2963631749153137, 0.021813124418258667, 0.13686256110668182, 0.06467603892087936, 0.09313146024942398, -0.0021819756366312504, -0.09135401248931885, -0.14389455318450928, 0.055144257843494415, -0.08739235252141953, -0.08573536574840546, -0.023922983556985855, 0.06779518723487854, -0.1145944595336914, 0.20109502971172333, -0.02529429830610752, -0.05520801618695259, -0.08793650567531586, -0.024614060297608376, -0.11647965759038925, -0.014343480579555035, 0.14235816895961761, -0.24927976727485657, 0.22692672908306122, 0.2283865213394165, 0.14260002970695496, 0.15450069308280945, 0.03996611386537552, 0.0037511386908590794, -0.04735172539949417, -0.09332176297903061, -0.14929674565792084, -0.07859165966510773, 0.08206349611282349, -0.03153324872255325, -0.0034740660339593887, -0.01072791125625372]}\n"
     ]
    }
   ],
   "source": [
    "for i in embedding_db.find({}):\n",
    "    print(i)"
   ],
   "metadata": {
    "collapsed": false,
    "pycharm": {
     "name": "#%%\n"
    }
   }
  },
  {
   "cell_type": "code",
   "execution_count": 8,
   "outputs": [],
   "source": [
    "response = requests.get('https://sun9-34.userapi.com/impf/c633929/v633929712/4304/pEQPQllo0n4.jpg?size=960x1280&quality=96&proxy=1&sign=5099d12a814c8969b0325c96e2dc930d')"
   ],
   "metadata": {
    "collapsed": false,
    "pycharm": {
     "name": "#%%\n"
    }
   }
  },
  {
   "cell_type": "code",
   "execution_count": 12,
   "outputs": [
    {
     "data": {
      "text/plain": "array([[[ 28,  40,  28],\n        [ 27,  39,  27],\n        [ 26,  38,  26],\n        ...,\n        [190, 195, 201],\n        [192, 197, 203],\n        [195, 200, 206]],\n\n       [[ 28,  40,  28],\n        [ 26,  38,  26],\n        [ 26,  38,  26],\n        ...,\n        [191, 196, 202],\n        [193, 198, 204],\n        [194, 199, 205]],\n\n       [[ 27,  39,  27],\n        [ 26,  38,  26],\n        [ 25,  37,  25],\n        ...,\n        [193, 198, 204],\n        [193, 198, 204],\n        [193, 198, 204]],\n\n       ...,\n\n       [[ 43,  44,  65],\n        [ 52,  53,  74],\n        [ 49,  50,  71],\n        ...,\n        [ 20,  26,  40],\n        [ 23,  29,  43],\n        [ 24,  30,  44]],\n\n       [[ 47,  48,  69],\n        [ 38,  39,  60],\n        [ 28,  29,  50],\n        ...,\n        [ 21,  27,  41],\n        [ 23,  29,  43],\n        [ 24,  30,  44]],\n\n       [[ 46,  47,  68],\n        [ 45,  46,  67],\n        [ 39,  39,  63],\n        ...,\n        [ 21,  27,  41],\n        [ 22,  28,  42],\n        [ 23,  29,  43]]], dtype=uint8)"
     },
     "execution_count": 12,
     "metadata": {},
     "output_type": "execute_result"
    }
   ],
   "source": [
    "np.array(Image.open(BytesIO(response.content)))"
   ],
   "metadata": {
    "collapsed": false,
    "pycharm": {
     "name": "#%%\n"
    }
   }
  },
  {
   "cell_type": "code",
   "execution_count": 13,
   "outputs": [
    {
     "data": {
      "text/plain": "_io.BytesIO"
     },
     "execution_count": 13,
     "metadata": {},
     "output_type": "execute_result"
    }
   ],
   "source": [
    "type(BytesIO(response.content))"
   ],
   "metadata": {
    "collapsed": false,
    "pycharm": {
     "name": "#%%\n"
    }
   }
  },
  {
   "cell_type": "code",
   "execution_count": 14,
   "outputs": [],
   "source": [
    "default_reg = list(range(1, 80))\n",
    "default_reg += [87, 89, 91, 92, 99]"
   ],
   "metadata": {
    "collapsed": false,
    "pycharm": {
     "name": "#%%\n"
    }
   }
  },
  {
   "cell_type": "code",
   "execution_count": 15,
   "outputs": [
    {
     "data": {
      "text/plain": "[1,\n 2,\n 3,\n 4,\n 5,\n 6,\n 7,\n 8,\n 9,\n 10,\n 11,\n 12,\n 13,\n 14,\n 15,\n 16,\n 17,\n 18,\n 19,\n 20,\n 21,\n 22,\n 23,\n 24,\n 25,\n 26,\n 27,\n 28,\n 29,\n 30,\n 31,\n 32,\n 33,\n 34,\n 35,\n 36,\n 37,\n 38,\n 39,\n 40,\n 41,\n 42,\n 43,\n 44,\n 45,\n 46,\n 47,\n 48,\n 49,\n 50,\n 51,\n 52,\n 53,\n 54,\n 55,\n 56,\n 57,\n 58,\n 59,\n 60,\n 61,\n 62,\n 63,\n 64,\n 65,\n 66,\n 67,\n 68,\n 69,\n 70,\n 71,\n 72,\n 73,\n 74,\n 75,\n 76,\n 77,\n 78,\n 79,\n 87,\n 89,\n 91,\n 92,\n 99]"
     },
     "execution_count": 15,
     "metadata": {},
     "output_type": "execute_result"
    }
   ],
   "source": [
    "default_reg"
   ],
   "metadata": {
    "collapsed": false,
    "pycharm": {
     "name": "#%%\n"
    }
   }
  },
  {
   "cell_type": "code",
   "execution_count": null,
   "outputs": [],
   "source": [],
   "metadata": {
    "collapsed": false,
    "pycharm": {
     "name": "#%%\n"
    }
   }
  }
 ],
 "metadata": {
  "kernelspec": {
   "display_name": "Python 3",
   "language": "python",
   "name": "python3"
  },
  "language_info": {
   "codemirror_mode": {
    "name": "ipython",
    "version": 2
   },
   "file_extension": ".py",
   "mimetype": "text/x-python",
   "name": "python",
   "nbconvert_exporter": "python",
   "pygments_lexer": "ipython2",
   "version": "2.7.6"
  }
 },
 "nbformat": 4,
 "nbformat_minor": 0
}